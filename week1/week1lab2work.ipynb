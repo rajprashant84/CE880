{
  "nbformat": 4,
  "nbformat_minor": 0,
  "metadata": {
    "colab": {
      "name": "week1lab2work.ipynb",
      "provenance": [],
      "collapsed_sections": []
    },
    "kernelspec": {
      "name": "python3",
      "display_name": "Python 3"
    },
    "language_info": {
      "name": "python"
    }
  },
  "cells": [
    {
      "cell_type": "code",
      "source": [
        "print('id:',1)\n",
        "print('First Name:','Prashant')\n",
        "print('Last Name:','Raj')"
      ],
      "metadata": {
        "colab": {
          "base_uri": "https://localhost:8080/"
        },
        "id": "_lgsOHxZP7f1",
        "outputId": "c0ebfc77-39b5-4c9d-e55c-b03f507c74f9"
      },
      "execution_count": 14,
      "outputs": [
        {
          "output_type": "stream",
          "name": "stdout",
          "text": [
            "id: 1\n",
            "First Name: Prashant\n",
            "Last Name: Raj\n"
          ]
        }
      ]
    },
    {
      "cell_type": "code",
      "source": [
        "if 100>99 and \\\n",
        "     200<=300 and \\\n",
        "     True!=False:\n",
        "     print('hello world')\n"
      ],
      "metadata": {
        "colab": {
          "base_uri": "https://localhost:8080/"
        },
        "id": "JpBtbnKNTcYB",
        "outputId": "8a85ebb5-705d-42e6-a567-0e1f59efb641"
      },
      "execution_count": 15,
      "outputs": [
        {
          "output_type": "stream",
          "name": "stdout",
          "text": [
            "hello world\n"
          ]
        }
      ]
    },
    {
      "cell_type": "code",
      "source": [
        "x=5\n",
        "y=10\n",
        "xy=\"Hello\"\n",
        "print(x+y,xy)"
      ],
      "metadata": {
        "colab": {
          "base_uri": "https://localhost:8080/"
        },
        "id": "bQrODTuQT5yT",
        "outputId": "4ee87847-c3c4-41db-ec1c-a2c63cd202f4"
      },
      "execution_count": 16,
      "outputs": [
        {
          "output_type": "stream",
          "name": "stdout",
          "text": [
            "15 Hello\n"
          ]
        }
      ]
    },
    {
      "cell_type": "code",
      "source": [
        "x=y=1\n",
        "print(x,y)"
      ],
      "metadata": {
        "colab": {
          "base_uri": "https://localhost:8080/"
        },
        "id": "5m_qsTviUGRV",
        "outputId": "0bb5b7b3-6ea3-4a8d-b7d2-efbeae638d14"
      },
      "execution_count": 17,
      "outputs": [
        {
          "output_type": "stream",
          "name": "stdout",
          "text": [
            "1 1\n"
          ]
        }
      ]
    },
    {
      "cell_type": "code",
      "source": [
        "#addtion\n",
        "a=1+3\n",
        "print(a)\n",
        "\n",
        "#substraction\n",
        "b=15-4\n",
        "print(b)\n",
        "\n",
        "#Multiplication\n",
        "\n",
        "c=a*b\n",
        "print(c)\n",
        "\n",
        "#DIVISION\n",
        "\n",
        "d=c/2\n",
        "\n",
        "print(d)\n",
        "\n",
        "#modulo\n",
        "e=15%10\n",
        "print(e)\n",
        "\n",
        "\n",
        "#floore divison \n",
        "f=2.8//2.0\n",
        "print(f)"
      ],
      "metadata": {
        "colab": {
          "base_uri": "https://localhost:8080/"
        },
        "id": "kbtb2PhkUMK3",
        "outputId": "0b5ecf65-68f1-44dc-ce40-5289f62aa6a5"
      },
      "execution_count": 24,
      "outputs": [
        {
          "output_type": "stream",
          "name": "stdout",
          "text": [
            "4\n",
            "11\n",
            "44\n",
            "22.0\n",
            "5\n",
            "1.0\n"
          ]
        }
      ]
    },
    {
      "cell_type": "code",
      "source": [
        "string1=\"World\"\n",
        "print(\"Hello\",string1)\n",
        "\n",
        "string2=\"!!!!...\"\n",
        "print(\"Hello\",string1,string2)\n",
        "\n",
        "print(\"Hello %s\" % string1)\n",
        "\n",
        "print(\"Actual number %d\" %18)\n",
        "print(\"Float number %f\" %18)"
      ],
      "metadata": {
        "colab": {
          "base_uri": "https://localhost:8080/"
        },
        "id": "iKnwSAoDWT-_",
        "outputId": "a005db31-5b90-47f4-9604-5a8a6dd4b6d6"
      },
      "execution_count": 31,
      "outputs": [
        {
          "output_type": "stream",
          "name": "stdout",
          "text": [
            "Hello World\n",
            "Hello World !!!!...\n",
            "Hello World\n",
            "Actual number 18\n",
            "Float number 18.000000\n"
          ]
        }
      ]
    },
    {
      "cell_type": "code",
      "source": [
        "#DATA TYPE\n",
        "\n",
        "#int Type\n",
        "x=20\n",
        "y=\"Hello\"\n",
        "type(x)\n",
        "print(type(y))\n",
        "type(y)\n",
        "\n",
        "#j=(\"I\",\"Thanks\",\"me\")\n",
        "#type(j)"
      ],
      "metadata": {
        "colab": {
          "base_uri": "https://localhost:8080/"
        },
        "id": "581iid5IXZHz",
        "outputId": "b8fb74de-7f7f-40a9-98c7-41590f683342"
      },
      "execution_count": 38,
      "outputs": [
        {
          "output_type": "stream",
          "name": "stdout",
          "text": [
            "<class 'str'>\n"
          ]
        },
        {
          "output_type": "execute_result",
          "data": {
            "text/plain": [
              "str"
            ]
          },
          "metadata": {},
          "execution_count": 38
        }
      ]
    },
    {
      "cell_type": "code",
      "source": [
        "#string Type\n",
        "Y=\"hello\"\n",
        "print(type(y))\n"
      ],
      "metadata": {
        "colab": {
          "base_uri": "https://localhost:8080/"
        },
        "id": "ce2efsMTY9t7",
        "outputId": "5cf85a34-4057-419f-a0ef-ac842ea4461e"
      },
      "execution_count": 40,
      "outputs": [
        {
          "output_type": "stream",
          "name": "stdout",
          "text": [
            "<class 'str'>\n"
          ]
        }
      ]
    },
    {
      "cell_type": "code",
      "source": [
        "#complex Type\n",
        "z=1j\n",
        "print(type(z))"
      ],
      "metadata": {
        "colab": {
          "base_uri": "https://localhost:8080/"
        },
        "id": "sgCGTN83ZLXo",
        "outputId": "975332fd-0197-4262-c017-ce2aee3824fb"
      },
      "execution_count": 43,
      "outputs": [
        {
          "output_type": "stream",
          "name": "stdout",
          "text": [
            "<class 'complex'>\n"
          ]
        }
      ]
    },
    {
      "cell_type": "code",
      "source": [
        "#list\n",
        "i=[\"I\",\"Love\",\"Myself\"]\n",
        "print(type(i))"
      ],
      "metadata": {
        "colab": {
          "base_uri": "https://localhost:8080/"
        },
        "id": "cpnQKHtiZc0D",
        "outputId": "a3404181-6919-4437-bdb9-ddd6f69d389c"
      },
      "execution_count": 44,
      "outputs": [
        {
          "output_type": "stream",
          "name": "stdout",
          "text": [
            "<class 'list'>\n"
          ]
        }
      ]
    },
    {
      "cell_type": "code",
      "source": [
        "#tupple\n",
        "\n",
        "k=(\"I\",\"Love\",\"everyone\")\n",
        "print(type(k))\n"
      ],
      "metadata": {
        "colab": {
          "base_uri": "https://localhost:8080/"
        },
        "id": "O6DQUyJSZqsW",
        "outputId": "38a71f5a-f897-46a5-8102-4826e810f81e"
      },
      "execution_count": 45,
      "outputs": [
        {
          "output_type": "stream",
          "name": "stdout",
          "text": [
            "<class 'tuple'>\n"
          ]
        }
      ]
    },
    {
      "cell_type": "code",
      "source": [
        "#Range\n",
        "x=range(10)\n",
        "print(type(x))"
      ],
      "metadata": {
        "colab": {
          "base_uri": "https://localhost:8080/"
        },
        "id": "5bH8GZh9aYPx",
        "outputId": "ed376f44-def0-45d2-dfb5-b2b5f8931105"
      },
      "execution_count": 47,
      "outputs": [
        {
          "output_type": "stream",
          "name": "stdout",
          "text": [
            "<class 'range'>\n"
          ]
        }
      ]
    },
    {
      "cell_type": "code",
      "source": [
        "#Dictonary\n",
        "\n",
        "x={\"name\":\"Prashant\",\"age\":29}\n",
        "print(type(x))"
      ],
      "metadata": {
        "colab": {
          "base_uri": "https://localhost:8080/"
        },
        "id": "4n4iLi1FamGh",
        "outputId": "40e50efc-4f05-4115-bfda-bf99eb23afbe"
      },
      "execution_count": 49,
      "outputs": [
        {
          "output_type": "stream",
          "name": "stdout",
          "text": [
            "<class 'dict'>\n"
          ]
        }
      ]
    },
    {
      "cell_type": "code",
      "source": [
        "#set Value\n",
        "x={\"I\",\"am\",\"Student\"}\n",
        "print(type(x))"
      ],
      "metadata": {
        "colab": {
          "base_uri": "https://localhost:8080/"
        },
        "id": "pqwT_FsKbDLO",
        "outputId": "5062e62d-94e5-4749-e9ac-b29ed4b38e2d"
      },
      "execution_count": 50,
      "outputs": [
        {
          "output_type": "stream",
          "name": "stdout",
          "text": [
            "<class 'set'>\n"
          ]
        }
      ]
    },
    {
      "cell_type": "code",
      "source": [
        "#forzeonSet Type\n",
        "x=frozenset({\"England\",\"wales\",\"scotland\",\"ireland\"})\n",
        "print(x)\n",
        "#print(type(x))\n"
      ],
      "metadata": {
        "colab": {
          "base_uri": "https://localhost:8080/"
        },
        "id": "MFD2HyRjbRBM",
        "outputId": "a938f3f9-b7a9-467a-8b36-467ab0e9170b"
      },
      "execution_count": 53,
      "outputs": [
        {
          "output_type": "stream",
          "name": "stdout",
          "text": [
            "frozenset({'England', 'ireland', 'wales', 'scotland'})\n"
          ]
        }
      ]
    },
    {
      "cell_type": "code",
      "source": [
        "#bool Type\n",
        "\n",
        "x=True\n",
        "print(type(x))"
      ],
      "metadata": {
        "colab": {
          "base_uri": "https://localhost:8080/"
        },
        "id": "5r8QFmaKcAsi",
        "outputId": "f278dfdf-4628-4df7-ea81-2c9529eca080"
      },
      "execution_count": 54,
      "outputs": [
        {
          "output_type": "stream",
          "name": "stdout",
          "text": [
            "<class 'bool'>\n"
          ]
        }
      ]
    },
    {
      "cell_type": "code",
      "source": [
        "#byte Type\n",
        "\n",
        "x=b\"hello\"\n",
        "print(x)\n",
        "print(type(x))"
      ],
      "metadata": {
        "colab": {
          "base_uri": "https://localhost:8080/"
        },
        "id": "pKvUiqrncJPa",
        "outputId": "88ab857e-b966-4571-f1c0-3b8d1152017b"
      },
      "execution_count": 61,
      "outputs": [
        {
          "output_type": "stream",
          "name": "stdout",
          "text": [
            "b'hello'\n",
            "<class 'bytes'>\n"
          ]
        }
      ]
    },
    {
      "cell_type": "code",
      "source": [
        "#bytearray\n",
        "x=bytearray(3)\n",
        "print(x)\n",
        "print(type(x))"
      ],
      "metadata": {
        "colab": {
          "base_uri": "https://localhost:8080/"
        },
        "id": "lwzw8lTHcV8c",
        "outputId": "565c167d-5e72-4166-b3c9-51fba758d7b7"
      },
      "execution_count": 60,
      "outputs": [
        {
          "output_type": "stream",
          "name": "stdout",
          "text": [
            "bytearray(b'\\x00\\x00\\x00')\n",
            "<class 'bytearray'>\n"
          ]
        }
      ]
    },
    {
      "cell_type": "code",
      "source": [
        "#MemoryView\n",
        "\n",
        "x=memoryview(bytes(5))\n",
        "print(x)\n",
        "print(type(x))"
      ],
      "metadata": {
        "colab": {
          "base_uri": "https://localhost:8080/"
        },
        "id": "CIhciNChckIA",
        "outputId": "c413938f-7ade-4efd-839f-ae7b1eaf18b9"
      },
      "execution_count": 59,
      "outputs": [
        {
          "output_type": "stream",
          "name": "stdout",
          "text": [
            "<memory at 0x7fb0f7a81ae0>\n",
            "<class 'memoryview'>\n"
          ]
        }
      ]
    },
    {
      "cell_type": "code",
      "source": [
        "#operator\n",
        "\n",
        "x=15\n",
        "y=10\n",
        "if x>y:\n",
        "  print(\"X is grater than y\")\n",
        "  \n",
        "\n"
      ],
      "metadata": {
        "colab": {
          "base_uri": "https://localhost:8080/"
        },
        "id": "DQPhbKbAeDdL",
        "outputId": "63e29eb0-313f-4547-9dd5-ceb1385525b3"
      },
      "execution_count": 62,
      "outputs": [
        {
          "output_type": "stream",
          "name": "stdout",
          "text": [
            "X is grater than y\n"
          ]
        }
      ]
    },
    {
      "cell_type": "code",
      "source": [
        "#if ifelse\n",
        "\n",
        "x=10\n",
        "y=10\n",
        "if x>y:\n",
        "    print(\"X is grater than Y\")\n",
        "elif x==y:\n",
        "    print(\"X is equal to Y\")\n"
      ],
      "metadata": {
        "colab": {
          "base_uri": "https://localhost:8080/"
        },
        "id": "DEj73mwCfUAg",
        "outputId": "9ff192cb-d926-4e0c-83d9-10ab361c2951"
      },
      "execution_count": 63,
      "outputs": [
        {
          "output_type": "stream",
          "name": "stdout",
          "text": [
            "X is equal to Y\n"
          ]
        }
      ]
    },
    {
      "cell_type": "code",
      "source": [
        "#if Else \n",
        "\n",
        "x=50\n",
        "y=20\n",
        "if y>x:\n",
        "  print(\"Y is grater than x\")\n",
        "elif x==y:\n",
        "  print(\"X is Y is Equal\")\n",
        "else:\n",
        "  print(\"X is Grater than Y\")"
      ],
      "metadata": {
        "colab": {
          "base_uri": "https://localhost:8080/"
        },
        "id": "PCQQQ-hdfvMH",
        "outputId": "a3a7c3ba-a142-401e-af2e-d8dbb910182d"
      },
      "execution_count": 64,
      "outputs": [
        {
          "output_type": "stream",
          "name": "stdout",
          "text": [
            "X is Grater than Y\n"
          ]
        }
      ]
    },
    {
      "cell_type": "code",
      "source": [
        "#using if and OR\n",
        "\n",
        "a=50\n",
        "b=20\n",
        "c=40\n",
        "if a>b and c>b:\n",
        "  print(\"Both condition are true\")\n",
        "\n"
      ],
      "metadata": {
        "colab": {
          "base_uri": "https://localhost:8080/"
        },
        "id": "hhLHMVKWgfhI",
        "outputId": "84299828-562b-419c-b52c-5d857ec5c60d"
      },
      "execution_count": 65,
      "outputs": [
        {
          "output_type": "stream",
          "name": "stdout",
          "text": [
            "Both condition are true\n"
          ]
        }
      ]
    },
    {
      "cell_type": "code",
      "source": [
        "#nested If else\n",
        "\n",
        "a=60\n",
        "\n",
        "\n",
        "if x>10:\n",
        "    print(\"Above ten\")\n",
        "    if x>20:\n",
        "      print(\"Above than 20\")\n",
        "    else:\n",
        "      print(\"all true\")\n",
        "\n"
      ],
      "metadata": {
        "colab": {
          "base_uri": "https://localhost:8080/"
        },
        "id": "2-Ha6CM6g6j7",
        "outputId": "54199050-cc5f-47fb-db77-1918a95a719e"
      },
      "execution_count": 66,
      "outputs": [
        {
          "output_type": "stream",
          "name": "stdout",
          "text": [
            "Above ten\n",
            "Above than 20\n"
          ]
        }
      ]
    },
    {
      "cell_type": "code",
      "source": [
        "#while Loop\n",
        "i=1\n",
        "while i<6:\n",
        "  print(i)\n",
        "  i=i+1\n"
      ],
      "metadata": {
        "colab": {
          "base_uri": "https://localhost:8080/"
        },
        "id": "egcF_Oskhk2-",
        "outputId": "06ee4677-4688-41ce-bfb8-feb1a8cb51be"
      },
      "execution_count": 68,
      "outputs": [
        {
          "output_type": "stream",
          "name": "stdout",
          "text": [
            "1\n",
            "2\n",
            "3\n",
            "4\n",
            "5\n"
          ]
        }
      ]
    },
    {
      "cell_type": "code",
      "source": [
        "#break Statement\n",
        "\n",
        "z=1\n",
        "\n",
        "while z < 6:\n",
        "  print(z)\n",
        "  if z==3:\n",
        "    break\n",
        "  z +=1\n",
        "\n"
      ],
      "metadata": {
        "colab": {
          "base_uri": "https://localhost:8080/"
        },
        "id": "UHWZTJXKiO-D",
        "outputId": "5159a3be-c6b6-4f94-fc8d-fd1e11c26916"
      },
      "execution_count": 77,
      "outputs": [
        {
          "output_type": "stream",
          "name": "stdout",
          "text": [
            "1\n",
            "2\n",
            "3\n"
          ]
        }
      ]
    },
    {
      "cell_type": "code",
      "source": [
        "#for loop\n",
        "\n",
        "car=[\"BMW\",\"AUDI\",\"HONDA\",\"TATA\"]\n",
        "for x in car:\n",
        "  print(x)\n"
      ],
      "metadata": {
        "colab": {
          "base_uri": "https://localhost:8080/"
        },
        "id": "DvBF73iNjTBG",
        "outputId": "07e2e997-a0f6-49b0-c6c1-cbe33df6d516"
      },
      "execution_count": 84,
      "outputs": [
        {
          "output_type": "stream",
          "name": "stdout",
          "text": [
            "BMW\n",
            "AUDI\n",
            "HONDA\n",
            "TATA\n"
          ]
        }
      ]
    },
    {
      "cell_type": "code",
      "source": [
        "#for loop throw string\n",
        "\n",
        "for x in \"PRASHANT\":\n",
        "    print(x)"
      ],
      "metadata": {
        "colab": {
          "base_uri": "https://localhost:8080/"
        },
        "id": "Sp_W2q1Vjwk3",
        "outputId": "8abb2bcd-60bf-434d-91b4-69e8426cd1b5"
      },
      "execution_count": 86,
      "outputs": [
        {
          "output_type": "stream",
          "name": "stdout",
          "text": [
            "P\n",
            "R\n",
            "A\n",
            "S\n",
            "H\n",
            "A\n",
            "N\n",
            "T\n"
          ]
        }
      ]
    },
    {
      "cell_type": "code",
      "source": [
        "#using Break loop\n",
        "\n",
        "Car=[\"BMW\",\"AUDI\",\"HONDA\",\"TATA\"]\n",
        "for x in car:\n",
        "  print(x)\n",
        "  if x==\"HONDA\":\n",
        "    break\n",
        "\n"
      ],
      "metadata": {
        "colab": {
          "base_uri": "https://localhost:8080/"
        },
        "id": "bUc_3TJjksCF",
        "outputId": "a77229fb-0dc5-4f9e-c34c-d5b58d6f4f46"
      },
      "execution_count": 111,
      "outputs": [
        {
          "output_type": "stream",
          "name": "stdout",
          "text": [
            "BMW\n",
            "AUDI\n",
            "HONDA\n"
          ]
        }
      ]
    },
    {
      "cell_type": "code",
      "source": [
        "#range Function\n",
        "\n",
        "for x in range(10):\n",
        "  print(x)"
      ],
      "metadata": {
        "colab": {
          "base_uri": "https://localhost:8080/"
        },
        "id": "1DqPKjrzlRPE",
        "outputId": "20e4db57-7b5f-489d-ee0e-cfecf757b895"
      },
      "execution_count": 91,
      "outputs": [
        {
          "output_type": "stream",
          "name": "stdout",
          "text": [
            "0\n",
            "1\n",
            "2\n",
            "3\n",
            "4\n",
            "5\n",
            "6\n",
            "7\n",
            "8\n",
            "9\n"
          ]
        }
      ]
    },
    {
      "cell_type": "code",
      "source": [
        "# range \n",
        "\n",
        "for x in range(4,15):\n",
        "  print(x)"
      ],
      "metadata": {
        "colab": {
          "base_uri": "https://localhost:8080/"
        },
        "id": "hYHbCJImldUy",
        "outputId": "ceec5c08-c98b-4fef-8019-64f46b615879"
      },
      "execution_count": 92,
      "outputs": [
        {
          "output_type": "stream",
          "name": "stdout",
          "text": [
            "4\n",
            "5\n",
            "6\n",
            "7\n",
            "8\n",
            "9\n",
            "10\n",
            "11\n",
            "12\n",
            "13\n",
            "14\n"
          ]
        }
      ]
    },
    {
      "cell_type": "code",
      "source": [
        "#Create function \n",
        "\n",
        "def My_function():\n",
        "  print(\"This is my function\")\n"
      ],
      "metadata": {
        "id": "NV-ZPt4Dlofp"
      },
      "execution_count": 94,
      "outputs": []
    },
    {
      "cell_type": "code",
      "source": [
        "My_function();"
      ],
      "metadata": {
        "colab": {
          "base_uri": "https://localhost:8080/"
        },
        "id": "IOLFTItil5-J",
        "outputId": "cf76fffc-df3d-4645-c4af-43757a9ab80e"
      },
      "execution_count": 95,
      "outputs": [
        {
          "output_type": "stream",
          "name": "stdout",
          "text": [
            "This is my function\n"
          ]
        }
      ]
    },
    {
      "cell_type": "code",
      "source": [
        "def My_function(carmodel):\n",
        "  print(\"BMW\",carmodel)\n",
        "\n",
        "My_function(\"005\")\n",
        "My_function(\"006\")\n",
        "My_function(\"007\")\n"
      ],
      "metadata": {
        "colab": {
          "base_uri": "https://localhost:8080/"
        },
        "id": "NHI5vVN1mGes",
        "outputId": "80f8101b-7f6d-4e98-c6b4-1e9e3e6552de"
      },
      "execution_count": 96,
      "outputs": [
        {
          "output_type": "stream",
          "name": "stdout",
          "text": [
            "BMW 005\n",
            "BMW 006\n",
            "BMW 007\n"
          ]
        }
      ]
    },
    {
      "cell_type": "code",
      "source": [
        "#argument\n",
        "\n",
        "def My_function(c=\"tesla\"):\n",
        "  print(\"My favorite car is \"+ c)\n",
        "\n",
        "My_function(\"BMW\")\n",
        "My_function(\"TATA\")\n",
        "\n",
        "\n",
        "\n",
        "def my_fun(newcar):\n",
        "  for x in newcar:\n",
        "    print(x)\n",
        "\n",
        "New=[\"BMW\",\"TESLA\",\"TATA\"]\n",
        "\n",
        "my_fun(New)\n",
        "\n",
        "\n",
        "\n",
        "def fun(x):\n",
        "  return 5*x\n",
        "\n",
        "print(fun(10))\n",
        "print(fun(100))\n"
      ],
      "metadata": {
        "colab": {
          "base_uri": "https://localhost:8080/"
        },
        "id": "nAqegXNBm-6h",
        "outputId": "d8c8dab9-bf4a-42ee-fc14-933a97f17d5b"
      },
      "execution_count": 116,
      "outputs": [
        {
          "output_type": "stream",
          "name": "stdout",
          "text": [
            "My favorite car is BMW\n",
            "My favorite car is TATA\n",
            "BMW\n",
            "TESLA\n",
            "TATA\n",
            "50\n",
            "500\n"
          ]
        }
      ]
    }
  ]
}