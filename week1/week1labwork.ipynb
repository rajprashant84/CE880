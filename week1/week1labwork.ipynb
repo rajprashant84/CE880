{
  "nbformat": 4,
  "nbformat_minor": 0,
  "metadata": {
    "colab": {
      "name": "week1labwork.ipynb",
      "provenance": [],
      "authorship_tag": "ABX9TyMolIFVyAzOdIkPBtB2X1mL",
      "include_colab_link": true
    },
    "kernelspec": {
      "name": "python3",
      "display_name": "Python 3"
    },
    "language_info": {
      "name": "python"
    }
  },
  "cells": [
    {
      "cell_type": "markdown",
      "metadata": {
        "id": "view-in-github",
        "colab_type": "text"
      },
      "source": [
        "<a href=\"https://colab.research.google.com/github/rajprashant84/CE880/blob/main/week1/week1labwork.ipynb\" target=\"_parent\"><img src=\"https://colab.research.google.com/assets/colab-badge.svg\" alt=\"Open In Colab\"/></a>"
      ]
    },
    {
      "cell_type": "code",
      "execution_count": 2,
      "metadata": {
        "colab": {
          "base_uri": "https://localhost:8080/"
        },
        "id": "KrlVOU00MPj0",
        "outputId": "1b22a4fa-68b3-40df-9dd0-593ff916c53b"
      },
      "outputs": [
        {
          "output_type": "stream",
          "name": "stdout",
          "text": [
            "Hello world\n"
          ]
        }
      ],
      "source": [
        "print('Hello world')"
      ]
    },
    {
      "cell_type": "code",
      "source": [
        "if 10>5:\n",
        "  print('Ten is grater than 5')"
      ],
      "metadata": {
        "colab": {
          "base_uri": "https://localhost:8080/"
        },
        "id": "BSEPuFP9M48C",
        "outputId": "5cf94ffd-bf45-46f3-c38f-0e389b8868e7"
      },
      "execution_count": 4,
      "outputs": [
        {
          "output_type": "stream",
          "name": "stdout",
          "text": [
            "Ten is grater than 5\n"
          ]
        }
      ]
    },
    {
      "cell_type": "code",
      "source": [
        "#take two input\n",
        "num1=10\n",
        "num2=20\n",
        "\n",
        "#add two number \n",
        "sum =num1+num2\n",
        "print('the sum of {0} and {1} is {2}'.format(num1,num2,sum))"
      ],
      "metadata": {
        "colab": {
          "base_uri": "https://localhost:8080/"
        },
        "id": "6j7Sy_FjND8f",
        "outputId": "f4aa149e-2f76-41ff-d407-d8a79aa599ec"
      },
      "execution_count": 8,
      "outputs": [
        {
          "output_type": "stream",
          "name": "stdout",
          "text": [
            "the sum of 10 and 20 is 30\n"
          ]
        }
      ]
    },
    {
      "cell_type": "code",
      "source": [
        "#calculate squre root\n",
        "num=9\n",
        "num_sqeroot=num*0.5\n",
        "print('The squre root is %0.3f is %0.3f'%(num,num_sqeroot))\n",
        "\n"
      ],
      "metadata": {
        "colab": {
          "base_uri": "https://localhost:8080/"
        },
        "id": "d_tOao7SNyPE",
        "outputId": "6f5b6f09-18bb-407c-c51c-0bd9359dbc45"
      },
      "execution_count": 12,
      "outputs": [
        {
          "output_type": "stream",
          "name": "stdout",
          "text": [
            "The squre root is 9.000 is 4.500\n"
          ]
        }
      ]
    }
  ]
}